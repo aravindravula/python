{
 "cells": [
  {
   "cell_type": "code",
   "execution_count": 6,
   "id": "b9ee961d",
   "metadata": {},
   "outputs": [
    {
     "name": "stdout",
     "output_type": "stream",
     "text": [
      "<class 'float'> 10.0\n"
     ]
    }
   ],
   "source": [
    "'''type conversion \n",
    "converting one data type into another data type'''\n",
    "\n",
    "#int to float \n",
    "a=10\n",
    "b=float(a)\n",
    "print(type(b),b)"
   ]
  },
  {
   "cell_type": "code",
   "execution_count": null,
   "id": "36e93c17-632e-4fe8-884b-a718f88c327c",
   "metadata": {},
   "outputs": [],
   "source": [
    "'''we can convert int to float,bool,string by using int() method'''"
   ]
  },
  {
   "cell_type": "code",
   "execution_count": null,
   "id": "7b41783a-9686-4df8-833a-eeaaaffa5050",
   "metadata": {},
   "outputs": [],
   "source": [
    "'''we can convert float to int,bool,string by using float() method'''"
   ]
  },
  {
   "cell_type": "code",
   "execution_count": null,
   "id": "91f3aaec-884f-41e7-97f5-d40796eb5025",
   "metadata": {},
   "outputs": [],
   "source": [
    "'''we can convert bool to int,float,string by using bool() method,\n",
    "it gives true for all values including negative numbers except for o which gives false'''"
   ]
  },
  {
   "cell_type": "code",
   "execution_count": null,
   "id": "d631f27c-49fa-4070-a45e-297735b105f3",
   "metadata": {},
   "outputs": [],
   "source": [
    "'''we can not convert string ito int,floaty,\n",
    "but we can convert string to boolean'''"
   ]
  },
  {
   "cell_type": "code",
   "execution_count": 7,
   "id": "809eb2ab",
   "metadata": {},
   "outputs": [
    {
     "name": "stdout",
     "output_type": "stream",
     "text": [
      "<class 'int'> 10\n"
     ]
    }
   ],
   "source": [
    "#float to int\n",
    "c=int(b)\n",
    "print(type(c),c)"
   ]
  },
  {
   "cell_type": "code",
   "execution_count": 8,
   "id": "4d20b493",
   "metadata": {},
   "outputs": [
    {
     "name": "stdout",
     "output_type": "stream",
     "text": [
      "<class 'complex'> (10+0j)\n"
     ]
    }
   ],
   "source": [
    "#int to complex\n",
    "d=complex(c)\n",
    "print(type(d),d)\n"
   ]
  },
  {
   "cell_type": "code",
   "execution_count": 9,
   "id": "c4d4b5eb",
   "metadata": {},
   "outputs": [
    {
     "name": "stdout",
     "output_type": "stream",
     "text": [
      "<class 'complex'> (10+10j)\n"
     ]
    }
   ],
   "source": [
    "d=complex(b,c)\n",
    "print(type(d),d)"
   ]
  },
  {
   "cell_type": "code",
   "execution_count": 10,
   "id": "0ae70831",
   "metadata": {},
   "outputs": [
    {
     "data": {
      "text/plain": [
       "(2+2.5j)"
      ]
     },
     "execution_count": 10,
     "metadata": {},
     "output_type": "execute_result"
    }
   ],
   "source": [
    "#formation of complex number using int and float\n",
    "a=2\n",
    "b=2.5\n",
    "c=complex(a,b)\n",
    "c"
   ]
  },
  {
   "cell_type": "code",
   "execution_count": 12,
   "id": "77905611",
   "metadata": {},
   "outputs": [
    {
     "data": {
      "text/plain": [
       "(str, '2')"
      ]
     },
     "execution_count": 12,
     "metadata": {},
     "output_type": "execute_result"
    }
   ],
   "source": [
    "#int,float,complex to string\n",
    "\n",
    "a=2\n",
    "b=str(a)\n",
    "type(b),b\n",
    "    "
   ]
  },
  {
   "cell_type": "code",
   "execution_count": 13,
   "id": "f5f9b3b8",
   "metadata": {},
   "outputs": [
    {
     "data": {
      "text/plain": [
       "(str, '2.5')"
      ]
     },
     "execution_count": 13,
     "metadata": {},
     "output_type": "execute_result"
    }
   ],
   "source": [
    "a=2.5\n",
    "b=str(a)\n",
    "type(b),b"
   ]
  },
  {
   "cell_type": "code",
   "execution_count": 15,
   "id": "80b843b3",
   "metadata": {},
   "outputs": [
    {
     "data": {
      "text/plain": [
       "(str, '(1+2j)')"
      ]
     },
     "execution_count": 15,
     "metadata": {},
     "output_type": "execute_result"
    }
   ],
   "source": [
    "a=1+2j\n",
    "b=str(a)\n",
    "type(b),b"
   ]
  },
  {
   "cell_type": "code",
   "execution_count": 2,
   "id": "ade7b753",
   "metadata": {},
   "outputs": [
    {
     "data": {
      "text/plain": [
       "(str, '1')"
      ]
     },
     "execution_count": 2,
     "metadata": {},
     "output_type": "execute_result"
    }
   ],
   "source": [
    "#using %s \n",
    "\n",
    "a=1\n",
    "b=\"%s\"%a\n",
    "type(b),b\n"
   ]
  },
  {
   "cell_type": "code",
   "execution_count": null,
   "id": "11ac2f60",
   "metadata": {},
   "outputs": [],
   "source": []
  },
  {
   "cell_type": "code",
   "execution_count": 4,
   "id": "76039c90",
   "metadata": {},
   "outputs": [
    {
     "data": {
      "text/plain": [
       "(str, '1')"
      ]
     },
     "execution_count": 4,
     "metadata": {},
     "output_type": "execute_result"
    }
   ],
   "source": [
    "#using format function\n",
    "\n",
    "a=1\n",
    "b='{}'.format(a)\n",
    "type(b),b\n"
   ]
  },
  {
   "cell_type": "code",
   "execution_count": 5,
   "id": "59570b99",
   "metadata": {},
   "outputs": [
    {
     "data": {
      "text/plain": [
       "(str, '1')"
      ]
     },
     "execution_count": 5,
     "metadata": {},
     "output_type": "execute_result"
    }
   ],
   "source": [
    "#using f_string\n",
    "\n",
    "a=1\n",
    "b=f'{a}'\n",
    "type(b),b\n"
   ]
  },
  {
   "cell_type": "code",
   "execution_count": 10,
   "id": "504b38f0",
   "metadata": {},
   "outputs": [
    {
     "data": {
      "text/plain": [
       "(int, 1)"
      ]
     },
     "execution_count": 10,
     "metadata": {},
     "output_type": "execute_result"
    }
   ],
   "source": [
    "a='1.5'\n",
    "b=int(float(a))\n",
    "type(b),b\n",
    "\n"
   ]
  },
  {
   "cell_type": "code",
   "execution_count": 18,
   "id": "fd22c418",
   "metadata": {},
   "outputs": [
    {
     "data": {
      "text/plain": [
       "(int, 1)"
      ]
     },
     "execution_count": 18,
     "metadata": {},
     "output_type": "execute_result"
    }
   ],
   "source": [
    "#Boolean to int\n",
    "\n",
    "a=True\n",
    "b=int(a)\n",
    "type(b),b"
   ]
  },
  {
   "cell_type": "code",
   "execution_count": 19,
   "id": "e9262155",
   "metadata": {},
   "outputs": [
    {
     "data": {
      "text/plain": [
       "(int, 0)"
      ]
     },
     "execution_count": 19,
     "metadata": {},
     "output_type": "execute_result"
    }
   ],
   "source": [
    "a=False\n",
    "b=int(a)\n",
    "type(b),b"
   ]
  },
  {
   "cell_type": "code",
   "execution_count": 21,
   "id": "d08164ee",
   "metadata": {},
   "outputs": [
    {
     "data": {
      "text/plain": [
       "(bool, True)"
      ]
     },
     "execution_count": 21,
     "metadata": {},
     "output_type": "execute_result"
    }
   ],
   "source": [
    "#int to boolean\n",
    "\n",
    "a=25\n",
    "b=bool(a)\n",
    "type(b),b"
   ]
  },
  {
   "cell_type": "code",
   "execution_count": 22,
   "id": "eb18ddbd",
   "metadata": {},
   "outputs": [
    {
     "data": {
      "text/plain": [
       "(bool, False)"
      ]
     },
     "execution_count": 22,
     "metadata": {},
     "output_type": "execute_result"
    }
   ],
   "source": [
    "a=0\n",
    "b=bool(a)\n",
    "type(b),b"
   ]
  },
  {
   "cell_type": "code",
   "execution_count": 23,
   "id": "1b5187fe",
   "metadata": {},
   "outputs": [
    {
     "data": {
      "text/plain": [
       "(bool, True)"
      ]
     },
     "execution_count": 23,
     "metadata": {},
     "output_type": "execute_result"
    }
   ],
   "source": [
    "a=-10\n",
    "b=bool(a)\n",
    "type(b),b"
   ]
  },
  {
   "cell_type": "code",
   "execution_count": 29,
   "id": "015a161d",
   "metadata": {},
   "outputs": [
    {
     "data": {
      "text/plain": [
       "(str, 'True')"
      ]
     },
     "execution_count": 29,
     "metadata": {},
     "output_type": "execute_result"
    }
   ],
   "source": [
    "#bool to string\n",
    "a=True\n",
    "b=str(a)\n",
    "type(b),b"
   ]
  },
  {
   "cell_type": "code",
   "execution_count": 31,
   "id": "9796e7ae",
   "metadata": {},
   "outputs": [
    {
     "data": {
      "text/plain": [
       "(bool, True)"
      ]
     },
     "execution_count": 31,
     "metadata": {},
     "output_type": "execute_result"
    }
   ],
   "source": [
    "#string to bool\n",
    "a='aravind'\n",
    "b=bool(a)\n",
    "type(b),b"
   ]
  },
  {
   "cell_type": "code",
   "execution_count": null,
   "id": "b16fee95",
   "metadata": {},
   "outputs": [],
   "source": []
  },
  {
   "cell_type": "code",
   "execution_count": null,
   "id": "c7133014",
   "metadata": {},
   "outputs": [],
   "source": []
  },
  {
   "cell_type": "code",
   "execution_count": null,
   "id": "cbbae511",
   "metadata": {},
   "outputs": [],
   "source": []
  },
  {
   "cell_type": "code",
   "execution_count": null,
   "id": "2c18d74c",
   "metadata": {},
   "outputs": [],
   "source": []
  },
  {
   "cell_type": "code",
   "execution_count": null,
   "id": "365d0d54",
   "metadata": {},
   "outputs": [],
   "source": []
  },
  {
   "cell_type": "code",
   "execution_count": null,
   "id": "5dcd279d",
   "metadata": {},
   "outputs": [],
   "source": []
  }
 ],
 "metadata": {
  "kernelspec": {
   "display_name": "Python 3 (ipykernel)",
   "language": "python",
   "name": "python3"
  },
  "language_info": {
   "codemirror_mode": {
    "name": "ipython",
    "version": 3
   },
   "file_extension": ".py",
   "mimetype": "text/x-python",
   "name": "python",
   "nbconvert_exporter": "python",
   "pygments_lexer": "ipython3",
   "version": "3.9.7"
  }
 },
 "nbformat": 4,
 "nbformat_minor": 5
}
