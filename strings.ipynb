{
 "cells": [
  {
   "cell_type": "code",
   "execution_count": 1,
   "id": "c77ff6ea",
   "metadata": {},
   "outputs": [
    {
     "data": {
      "text/plain": [
       "'john wick'"
      ]
     },
     "execution_count": 1,
     "metadata": {},
     "output_type": "execute_result"
    }
   ],
   "source": [
    "#strings indexing and slicing\n",
    "\n",
    "s='john wick'\n",
    "s\n"
   ]
  },
  {
   "cell_type": "code",
   "execution_count": 2,
   "id": "27e53e20",
   "metadata": {},
   "outputs": [
    {
     "data": {
      "text/plain": [
       "\"python's course for beginnners\""
      ]
     },
     "execution_count": 2,
     "metadata": {},
     "output_type": "execute_result"
    }
   ],
   "source": [
    "s=\"python's course for beginnners\"\n",
    "s\n"
   ]
  },
  {
   "cell_type": "code",
   "execution_count": 3,
   "id": "ebc7150e",
   "metadata": {},
   "outputs": [
    {
     "data": {
      "text/plain": [
       "'my name is \"aravind\"'"
      ]
     },
     "execution_count": 3,
     "metadata": {},
     "output_type": "execute_result"
    }
   ],
   "source": [
    "s='my name is \"aravind\"'\n",
    "s"
   ]
  },
  {
   "cell_type": "code",
   "execution_count": 5,
   "id": "ee233885",
   "metadata": {},
   "outputs": [
    {
     "data": {
      "text/plain": [
       "'hi,\\n\\nIam Aravind \\n\\niam 23 years old'"
      ]
     },
     "execution_count": 5,
     "metadata": {},
     "output_type": "execute_result"
    }
   ],
   "source": [
    "s='''hi,\n",
    "\n",
    "Iam Aravind \n",
    "\n",
    "iam 23 years old'''\n",
    "s"
   ]
  },
  {
   "cell_type": "code",
   "execution_count": 6,
   "id": "4755ce21",
   "metadata": {},
   "outputs": [
    {
     "data": {
      "text/plain": [
       "'p'"
      ]
     },
     "execution_count": 6,
     "metadata": {},
     "output_type": "execute_result"
    }
   ],
   "source": [
    "course='python for beginners'\n",
    "course[0]"
   ]
  },
  {
   "cell_type": "code",
   "execution_count": 7,
   "id": "cdeb9194",
   "metadata": {},
   "outputs": [
    {
     "data": {
      "text/plain": [
       "'s'"
      ]
     },
     "execution_count": 7,
     "metadata": {},
     "output_type": "execute_result"
    }
   ],
   "source": [
    "course[-1]"
   ]
  },
  {
   "cell_type": "code",
   "execution_count": 8,
   "id": "99e29769",
   "metadata": {},
   "outputs": [
    {
     "data": {
      "text/plain": [
       "'srennigeb rof nohtyp'"
      ]
     },
     "execution_count": 8,
     "metadata": {},
     "output_type": "execute_result"
    }
   ],
   "source": [
    "course[::-1]"
   ]
  },
  {
   "cell_type": "code",
   "execution_count": 9,
   "id": "b480a8c0",
   "metadata": {},
   "outputs": [
    {
     "data": {
      "text/plain": [
       "'python for beginners'"
      ]
     },
     "execution_count": 9,
     "metadata": {},
     "output_type": "execute_result"
    }
   ],
   "source": [
    "course[:]"
   ]
  },
  {
   "cell_type": "code",
   "execution_count": 10,
   "id": "98711648",
   "metadata": {},
   "outputs": [
    {
     "data": {
      "text/plain": [
       "'ython for beginners'"
      ]
     },
     "execution_count": 10,
     "metadata": {},
     "output_type": "execute_result"
    }
   ],
   "source": [
    "course[1:]\n"
   ]
  },
  {
   "cell_type": "code",
   "execution_count": 11,
   "id": "81ae1c1a",
   "metadata": {},
   "outputs": [
    {
     "data": {
      "text/plain": [
       "'pyth'"
      ]
     },
     "execution_count": 11,
     "metadata": {},
     "output_type": "execute_result"
    }
   ],
   "source": [
    "course[:4]"
   ]
  },
  {
   "cell_type": "code",
   "execution_count": 12,
   "id": "853137ac",
   "metadata": {},
   "outputs": [
    {
     "data": {
      "text/plain": [
       "'python for beginner'"
      ]
     },
     "execution_count": 12,
     "metadata": {},
     "output_type": "execute_result"
    }
   ],
   "source": [
    "course[:-1]"
   ]
  },
  {
   "cell_type": "code",
   "execution_count": 13,
   "id": "c4c9538b",
   "metadata": {},
   "outputs": [
    {
     "data": {
      "text/plain": [
       "'s'"
      ]
     },
     "execution_count": 13,
     "metadata": {},
     "output_type": "execute_result"
    }
   ],
   "source": [
    "course[-1:]"
   ]
  },
  {
   "cell_type": "code",
   "execution_count": 14,
   "id": "94d0a349",
   "metadata": {},
   "outputs": [
    {
     "data": {
      "text/plain": [
       "'yth'"
      ]
     },
     "execution_count": 14,
     "metadata": {},
     "output_type": "execute_result"
    }
   ],
   "source": [
    "course[1:4]"
   ]
  },
  {
   "cell_type": "code",
   "execution_count": 24,
   "id": "292f20fd",
   "metadata": {},
   "outputs": [
    {
     "name": "stdout",
     "output_type": "stream",
     "text": [
      "Aravind[Ravula] is a coder\n"
     ]
    }
   ],
   "source": [
    "#formated strings\n",
    "first='Aravind'\n",
    "last='Ravula'\n",
    "message=f'{first}[{last}] is a coder'\n",
    "print(message)\n"
   ]
  },
  {
   "cell_type": "code",
   "execution_count": null,
   "id": "5a6e0375",
   "metadata": {},
   "outputs": [],
   "source": []
  },
  {
   "cell_type": "code",
   "execution_count": null,
   "id": "dd0db7d9",
   "metadata": {},
   "outputs": [],
   "source": []
  }
 ],
 "metadata": {
  "kernelspec": {
   "display_name": "Python 3 (ipykernel)",
   "language": "python",
   "name": "python3"
  },
  "language_info": {
   "codemirror_mode": {
    "name": "ipython",
    "version": 3
   },
   "file_extension": ".py",
   "mimetype": "text/x-python",
   "name": "python",
   "nbconvert_exporter": "python",
   "pygments_lexer": "ipython3",
   "version": "3.9.7"
  }
 },
 "nbformat": 4,
 "nbformat_minor": 5
}
