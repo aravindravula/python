{
 "cells": [
  {
   "cell_type": "code",
   "execution_count": 1,
   "id": "ef8fc96c",
   "metadata": {},
   "outputs": [
    {
     "name": "stdout",
     "output_type": "stream",
     "text": [
      "2115799706032\n"
     ]
    }
   ],
   "source": [
    "# variable adresses can be accesed by using id(variable_name)\n",
    "num=5\n",
    "print(id(num))\n"
   ]
  },
  {
   "cell_type": "code",
   "execution_count": 2,
   "id": "560a2a47",
   "metadata": {},
   "outputs": [
    {
     "data": {
      "text/plain": [
       "2115860095728"
      ]
     },
     "execution_count": 2,
     "metadata": {},
     "output_type": "execute_result"
    }
   ],
   "source": [
    "name='aravind'\n",
    "id(name)"
   ]
  },
  {
   "cell_type": "code",
   "execution_count": 4,
   "id": "78ab18b7",
   "metadata": {},
   "outputs": [
    {
     "data": {
      "text/plain": [
       "2115799706032"
      ]
     },
     "execution_count": 4,
     "metadata": {},
     "output_type": "execute_result"
    }
   ],
   "source": [
    "#if we assign variable to another variable also the adress is same\n",
    "a=5\n",
    "b=a\n",
    "id(a)\n"
   ]
  },
  {
   "cell_type": "code",
   "execution_count": 5,
   "id": "2e3d6725",
   "metadata": {},
   "outputs": [
    {
     "data": {
      "text/plain": [
       "2115799706032"
      ]
     },
     "execution_count": 5,
     "metadata": {},
     "output_type": "execute_result"
    }
   ],
   "source": [
    "id(b)"
   ]
  },
  {
   "cell_type": "code",
   "execution_count": 7,
   "id": "acf0b5af",
   "metadata": {},
   "outputs": [
    {
     "data": {
      "text/plain": [
       "2115799706032"
      ]
     },
     "execution_count": 7,
     "metadata": {},
     "output_type": "execute_result"
    }
   ],
   "source": [
    "#the adress of variable depends on value and not on variable\n",
    "id(5)"
   ]
  },
  {
   "cell_type": "code",
   "execution_count": 9,
   "id": "e24c3eda",
   "metadata": {},
   "outputs": [
    {
     "data": {
      "text/plain": [
       "2115799706032"
      ]
     },
     "execution_count": 9,
     "metadata": {},
     "output_type": "execute_result"
    }
   ],
   "source": [
    "k=5\n",
    "id(k)"
   ]
  },
  {
   "cell_type": "code",
   "execution_count": 12,
   "id": "f2982faa",
   "metadata": {},
   "outputs": [
    {
     "data": {
      "text/plain": [
       "2115799706128"
      ]
     },
     "execution_count": 12,
     "metadata": {},
     "output_type": "execute_result"
    }
   ],
   "source": [
    "b=8\n",
    "id(b)"
   ]
  },
  {
   "cell_type": "code",
   "execution_count": null,
   "id": "aefcc652",
   "metadata": {},
   "outputs": [],
   "source": []
  },
  {
   "cell_type": "code",
   "execution_count": null,
   "id": "8f1720ee",
   "metadata": {},
   "outputs": [],
   "source": []
  },
  {
   "cell_type": "code",
   "execution_count": null,
   "id": "2e17e573",
   "metadata": {},
   "outputs": [],
   "source": []
  },
  {
   "cell_type": "code",
   "execution_count": null,
   "id": "021750c1",
   "metadata": {},
   "outputs": [],
   "source": []
  }
 ],
 "metadata": {
  "kernelspec": {
   "display_name": "Python 3 (ipykernel)",
   "language": "python",
   "name": "python3"
  },
  "language_info": {
   "codemirror_mode": {
    "name": "ipython",
    "version": 3
   },
   "file_extension": ".py",
   "mimetype": "text/x-python",
   "name": "python",
   "nbconvert_exporter": "python",
   "pygments_lexer": "ipython3",
   "version": "3.9.7"
  }
 },
 "nbformat": 4,
 "nbformat_minor": 5
}
