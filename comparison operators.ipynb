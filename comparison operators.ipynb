{
 "cells": [
  {
   "cell_type": "markdown",
   "id": "53197b4e",
   "metadata": {},
   "source": [
    "'''if name is less than 3 characters long,name must be atleast 3 characters long\n",
    "otherwise if it is more than 50 characters long name can be a maximum of 50 charactyers \n",
    "otherwise name looks good"
   ]
  },
  {
   "cell_type": "code",
   "execution_count": 5,
   "id": "6f928130",
   "metadata": {},
   "outputs": [
    {
     "name": "stdout",
     "output_type": "stream",
     "text": [
      "enter your name:Aravind Ravula\n",
      "name looks good\n"
     ]
    }
   ],
   "source": [
    "name=input(\"enter your name:\")\n",
    "if len(name)<3:\n",
    "    print(\"name must be 3 characters long\")\n",
    "elif len(name)>50:\n",
    "    print(\"name can be a maximum of 50 characters long\")\n",
    "else:\n",
    "    print(\"name looks good\")\n"
   ]
  },
  {
   "cell_type": "code",
   "execution_count": null,
   "id": "0ffade58",
   "metadata": {},
   "outputs": [],
   "source": [
    "'''if temperature is greater than 30 \n",
    "it is a hot day\n",
    "otherwise if its les than 10 \n",
    "it is a cold day\n",
    "otherwise \n",
    "its neither hot or cold'''"
   ]
  },
  {
   "cell_type": "code",
   "execution_count": 17,
   "id": "a73869e2",
   "metadata": {},
   "outputs": [
    {
     "name": "stdout",
     "output_type": "stream",
     "text": [
      "Enter the temperature:,20\n",
      "it's neither hot nor cold day\n"
     ]
    }
   ],
   "source": [
    "temp=int(input(\"Enter the temperature:,\"))\n",
    "if temp>30:\n",
    "    print(\"it's a hot day\")\n",
    "elif temp<10:\n",
    "     print(\"it's cold day\")\n",
    "else:\n",
    "     print(\"it's neither hot nor cold day\")"
   ]
  },
  {
   "cell_type": "code",
   "execution_count": null,
   "id": "3b742700",
   "metadata": {},
   "outputs": [],
   "source": []
  },
  {
   "cell_type": "code",
   "execution_count": null,
   "id": "05dfb59b",
   "metadata": {},
   "outputs": [],
   "source": []
  },
  {
   "cell_type": "code",
   "execution_count": null,
   "id": "a1eeb1a4",
   "metadata": {},
   "outputs": [],
   "source": []
  },
  {
   "cell_type": "code",
   "execution_count": null,
   "id": "385834d5",
   "metadata": {},
   "outputs": [],
   "source": []
  },
  {
   "cell_type": "code",
   "execution_count": null,
   "id": "d36594ee",
   "metadata": {},
   "outputs": [],
   "source": []
  },
  {
   "cell_type": "code",
   "execution_count": null,
   "id": "c09cee26",
   "metadata": {},
   "outputs": [],
   "source": []
  },
  {
   "cell_type": "code",
   "execution_count": null,
   "id": "ea167873",
   "metadata": {},
   "outputs": [],
   "source": []
  },
  {
   "cell_type": "code",
   "execution_count": null,
   "id": "fb4606c1",
   "metadata": {},
   "outputs": [],
   "source": []
  },
  {
   "cell_type": "code",
   "execution_count": null,
   "id": "371880f2",
   "metadata": {},
   "outputs": [],
   "source": []
  },
  {
   "cell_type": "code",
   "execution_count": null,
   "id": "b82eacba",
   "metadata": {},
   "outputs": [],
   "source": []
  },
  {
   "cell_type": "code",
   "execution_count": null,
   "id": "f5b9ceb6",
   "metadata": {},
   "outputs": [],
   "source": []
  }
 ],
 "metadata": {
  "kernelspec": {
   "display_name": "Python 3 (ipykernel)",
   "language": "python",
   "name": "python3"
  },
  "language_info": {
   "codemirror_mode": {
    "name": "ipython",
    "version": 3
   },
   "file_extension": ".py",
   "mimetype": "text/x-python",
   "name": "python",
   "nbconvert_exporter": "python",
   "pygments_lexer": "ipython3",
   "version": "3.9.7"
  }
 },
 "nbformat": 4,
 "nbformat_minor": 5
}
