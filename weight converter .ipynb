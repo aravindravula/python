{
 "cells": [
  {
   "cell_type": "code",
   "execution_count": 1,
   "id": "9257d646",
   "metadata": {},
   "outputs": [
    {
     "name": "stdout",
     "output_type": "stream",
     "text": [
      "enter your weight:70\n",
      "(L)bs or (k)g:K\n",
      "your weight is 155.55555555555554 pounds\n"
     ]
    }
   ],
   "source": [
    "weight=int(input(\"enter your weight:\"))\n",
    "unit=input(\"(L)bs or (k)g:\")\n",
    "if unit.upper()==\"L\":\n",
    "    converted=0.45*weight\n",
    "    print(f\"your weight is {converted} kilos\")\n",
    "else:\n",
    "    converted=weight/0.45\n",
    "    print(f\"your weight is {converted} pounds\")\n",
    "    \n",
    "\n"
   ]
  },
  {
   "cell_type": "code",
   "execution_count": null,
   "id": "661b7791",
   "metadata": {},
   "outputs": [],
   "source": []
  },
  {
   "cell_type": "code",
   "execution_count": null,
   "id": "e3d39e34",
   "metadata": {},
   "outputs": [],
   "source": []
  },
  {
   "cell_type": "code",
   "execution_count": null,
   "id": "587950b1",
   "metadata": {},
   "outputs": [],
   "source": []
  },
  {
   "cell_type": "code",
   "execution_count": null,
   "id": "692c3520",
   "metadata": {},
   "outputs": [],
   "source": []
  },
  {
   "cell_type": "code",
   "execution_count": null,
   "id": "a799e539",
   "metadata": {},
   "outputs": [],
   "source": []
  }
 ],
 "metadata": {
  "kernelspec": {
   "display_name": "Python 3 (ipykernel)",
   "language": "python",
   "name": "python3"
  },
  "language_info": {
   "codemirror_mode": {
    "name": "ipython",
    "version": 3
   },
   "file_extension": ".py",
   "mimetype": "text/x-python",
   "name": "python",
   "nbconvert_exporter": "python",
   "pygments_lexer": "ipython3",
   "version": "3.9.7"
  }
 },
 "nbformat": 4,
 "nbformat_minor": 5
}
