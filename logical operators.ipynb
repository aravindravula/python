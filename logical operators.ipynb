{
 "cells": [
  {
   "cell_type": "code",
   "execution_count": null,
   "id": "c4411f39",
   "metadata": {},
   "outputs": [],
   "source": [
    "#If a person has a high income and good credit, he is eligible for loan\n",
    "#If a person has a high income or good credit, he is eligible for loan\n",
    "#If a person has a good credit and has not a criminal record, he is eligible for loan"
   ]
  },
  {
   "cell_type": "code",
   "execution_count": 1,
   "id": "183ad58d",
   "metadata": {},
   "outputs": [
    {
     "name": "stdout",
     "output_type": "stream",
     "text": [
      "eligible for loan\n"
     ]
    }
   ],
   "source": [
    "has_high_income=True\n",
    "has_good_credit=True\n",
    "if has_high_income and has_good_credit:\n",
    "    print(\"eligible for loan\")\n"
   ]
  },
  {
   "cell_type": "code",
   "execution_count": 2,
   "id": "11bb58d9",
   "metadata": {},
   "outputs": [],
   "source": [
    "has_high_income=True\n",
    "has_good_credit=False\n",
    "if has_high_income and has_good_credit:\n",
    "    print(\"eligible for loan\")\n"
   ]
  },
  {
   "cell_type": "code",
   "execution_count": null,
   "id": "3fbc55be",
   "metadata": {},
   "outputs": [],
   "source": [
    "#no output because both the conditions are not true"
   ]
  },
  {
   "cell_type": "code",
   "execution_count": 3,
   "id": "9b3737c9",
   "metadata": {},
   "outputs": [
    {
     "name": "stdout",
     "output_type": "stream",
     "text": [
      "eligible for loan\n"
     ]
    }
   ],
   "source": [
    "has_high_income=True\n",
    "has_good_credit=False\n",
    "if has_high_income or has_good_credit:\n",
    "    print(\"eligible for loan\")\n"
   ]
  },
  {
   "cell_type": "code",
   "execution_count": 4,
   "id": "550e88f6",
   "metadata": {},
   "outputs": [],
   "source": [
    "has_high_income=False\n",
    "has_good_credit=False\n",
    "if has_high_income and has_good_credit:\n",
    "    print(\"eligible for loan\")\n"
   ]
  },
  {
   "cell_type": "code",
   "execution_count": null,
   "id": "584a72d0",
   "metadata": {},
   "outputs": [],
   "source": [
    "no output because both the conditions are false\n"
   ]
  },
  {
   "cell_type": "code",
   "execution_count": 5,
   "id": "55de289b",
   "metadata": {},
   "outputs": [
    {
     "name": "stdout",
     "output_type": "stream",
     "text": [
      "eligible for loan\n"
     ]
    }
   ],
   "source": [
    "has_high_income=True\n",
    "has_criminal_record=False\n",
    "if has_high_income and not has_criminal_record:\n",
    "    print(\"eligible for loan\")\n"
   ]
  },
  {
   "cell_type": "code",
   "execution_count": 6,
   "id": "61ad8015",
   "metadata": {},
   "outputs": [],
   "source": [
    "has_high_income=True\n",
    "has_criminal_record=True\n",
    "if has_high_income and not has_criminal_record:\n",
    "    print(\"eligible for loan\")\n"
   ]
  },
  {
   "cell_type": "code",
   "execution_count": null,
   "id": "ac73efb1",
   "metadata": {},
   "outputs": [],
   "source": []
  },
  {
   "cell_type": "code",
   "execution_count": null,
   "id": "98071904",
   "metadata": {},
   "outputs": [],
   "source": []
  },
  {
   "cell_type": "code",
   "execution_count": null,
   "id": "e547595f",
   "metadata": {},
   "outputs": [],
   "source": []
  },
  {
   "cell_type": "code",
   "execution_count": null,
   "id": "314d5212",
   "metadata": {},
   "outputs": [],
   "source": [
    "\n"
   ]
  },
  {
   "cell_type": "code",
   "execution_count": null,
   "id": "91a99a0b",
   "metadata": {},
   "outputs": [],
   "source": []
  },
  {
   "cell_type": "code",
   "execution_count": null,
   "id": "7565b6b1",
   "metadata": {},
   "outputs": [],
   "source": []
  },
  {
   "cell_type": "code",
   "execution_count": null,
   "id": "ee0c77af",
   "metadata": {},
   "outputs": [],
   "source": []
  },
  {
   "cell_type": "code",
   "execution_count": null,
   "id": "6a066cdb",
   "metadata": {},
   "outputs": [],
   "source": []
  }
 ],
 "metadata": {
  "kernelspec": {
   "display_name": "Python 3 (ipykernel)",
   "language": "python",
   "name": "python3"
  },
  "language_info": {
   "codemirror_mode": {
    "name": "ipython",
    "version": 3
   },
   "file_extension": ".py",
   "mimetype": "text/x-python",
   "name": "python",
   "nbconvert_exporter": "python",
   "pygments_lexer": "ipython3",
   "version": "3.9.7"
  }
 },
 "nbformat": 4,
 "nbformat_minor": 5
}
