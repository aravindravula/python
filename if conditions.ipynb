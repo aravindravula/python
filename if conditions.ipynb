{
 "cells": [
  {
   "cell_type": "code",
   "execution_count": null,
   "id": "ba14daf7",
   "metadata": {},
   "outputs": [],
   "source": [
    "'''if conditionals:\n",
    "if a conditions is true if block will be executed ,otherwise terminates the loop\n",
    "\n",
    "ifelse:\n",
    "if a condition is true if blocl will be executed, otherwise else block will be executed\n",
    "\n",
    "elif:\n",
    "if condition1 is true if block will be executed, otherwise checks the elif condition if it is true it will be executed ,\n",
    "otherwise checks the next elif cindition and goes on until the condition id true , \n",
    "if no condition is true else block will be executed'''\n"
   ]
  },
  {
   "cell_type": "code",
   "execution_count": 3,
   "id": "3238903c",
   "metadata": {},
   "outputs": [
    {
     "name": "stdout",
     "output_type": "stream",
     "text": [
      "It's a hot day\n",
      "drink plenty of water\n",
      "enjoy your day\n"
     ]
    }
   ],
   "source": [
    "is_hot=True\n",
    "if is_hot:\n",
    "    print(\"It's a hot day\")\n",
    "    print('drink plenty of water')\n",
    "print('enjoy your day')    "
   ]
  },
  {
   "cell_type": "code",
   "execution_count": 4,
   "id": "679da1c7",
   "metadata": {},
   "outputs": [
    {
     "name": "stdout",
     "output_type": "stream",
     "text": [
      "enjoy your day\n"
     ]
    }
   ],
   "source": [
    "is_hot=False\n",
    "if is_hot:\n",
    "    print(\"It's a hot day\")\n",
    "    print('drink plenty of water')\n",
    "print('enjoy your day')    "
   ]
  },
  {
   "cell_type": "code",
   "execution_count": 5,
   "id": "8eca9447",
   "metadata": {},
   "outputs": [
    {
     "name": "stdout",
     "output_type": "stream",
     "text": [
      "It's a hot day\n",
      "drink plenty of water\n",
      "enjoy your day\n"
     ]
    }
   ],
   "source": [
    "is_hot=True\n",
    "if is_hot:\n",
    "    print(\"It's a hot day\")\n",
    "    print('drink plenty of water')\n",
    "else:\n",
    "    print(\"It's a cold day\")\n",
    "    print(\"wear some warm clothes\")\n",
    "print('enjoy your day')    "
   ]
  },
  {
   "cell_type": "code",
   "execution_count": 6,
   "id": "1cd0b8e1",
   "metadata": {},
   "outputs": [
    {
     "name": "stdout",
     "output_type": "stream",
     "text": [
      "It's a cold day\n",
      "wear some warm clothes\n",
      "enjoy your day\n"
     ]
    }
   ],
   "source": [
    "is_hot=False\n",
    "is_cold=True\n",
    "if is_hot:\n",
    "    print(\"It's a hot day\")\n",
    "    print('drink plenty of water')\n",
    "else:\n",
    "    print(\"It's a cold day\")\n",
    "    print(\"wear some warm clothes\")\n",
    "print('enjoy your day')    "
   ]
  },
  {
   "cell_type": "code",
   "execution_count": 9,
   "id": "5d9d5f33",
   "metadata": {},
   "outputs": [
    {
     "name": "stdout",
     "output_type": "stream",
     "text": [
      "It's a lovely day\n",
      "enjoy your day\n"
     ]
    }
   ],
   "source": [
    "is_hot=False\n",
    "is_cold=False\n",
    "if is_hot:\n",
    "    print(\"It's a hot day\")\n",
    "    print('drink plenty of water')\n",
    "elif is_cold:\n",
    "    print(\"It's a cold day\")\n",
    "    print(\"wear some warm clothes\")\n",
    "else:\n",
    "    print(\"It's a lovely day\")\n",
    "print('enjoy your day')    "
   ]
  },
  {
   "cell_type": "code",
   "execution_count": null,
   "id": "60474e02",
   "metadata": {},
   "outputs": [],
   "source": [
    "\n",
    "'''price of a house is 1m \n",
    "if buyer has good credit\n",
    "they need to put downpayment 10%\n",
    "otherwise \n",
    "they need to put downpayment 20%\n",
    "print the downpayment''\n",
    "'"
   ]
  },
  {
   "cell_type": "code",
   "execution_count": 11,
   "id": "f3dbf00d",
   "metadata": {},
   "outputs": [
    {
     "name": "stdout",
     "output_type": "stream",
     "text": [
      "Downpayment:$1000000.0\n"
     ]
    }
   ],
   "source": [
    "price=10000000\n",
    "has_goodcredit=True\n",
    "if has_goodcredit:\n",
    "    downpayment=0.1*price\n",
    "else:\n",
    "    downpayment=0.2*price\n",
    "print(f\"Downpayment:${downpayment}\")    "
   ]
  },
  {
   "cell_type": "code",
   "execution_count": null,
   "id": "f55f5112",
   "metadata": {},
   "outputs": [],
   "source": []
  },
  {
   "cell_type": "code",
   "execution_count": null,
   "id": "52c890cd",
   "metadata": {},
   "outputs": [],
   "source": []
  }
 ],
 "metadata": {
  "kernelspec": {
   "display_name": "Python 3 (ipykernel)",
   "language": "python",
   "name": "python3"
  },
  "language_info": {
   "codemirror_mode": {
    "name": "ipython",
    "version": 3
   },
   "file_extension": ".py",
   "mimetype": "text/x-python",
   "name": "python",
   "nbconvert_exporter": "python",
   "pygments_lexer": "ipython3",
   "version": "3.9.7"
  }
 },
 "nbformat": 4,
 "nbformat_minor": 5
}
