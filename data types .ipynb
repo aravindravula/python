{
 "cells": [
  {
   "cell_type": "code",
   "execution_count": 1,
   "id": "127d1902",
   "metadata": {},
   "outputs": [
    {
     "data": {
      "text/plain": [
       "int"
      ]
     },
     "execution_count": 1,
     "metadata": {},
     "output_type": "execute_result"
    }
   ],
   "source": [
    "num=1\n",
    "type(num)\n"
   ]
  },
  {
   "cell_type": "code",
   "execution_count": 2,
   "id": "eeed0c8f",
   "metadata": {},
   "outputs": [
    {
     "data": {
      "text/plain": [
       "float"
      ]
     },
     "execution_count": 2,
     "metadata": {},
     "output_type": "execute_result"
    }
   ],
   "source": [
    "num=2.4\n",
    "type(num)\n"
   ]
  },
  {
   "cell_type": "code",
   "execution_count": 3,
   "id": "28cf6c9d",
   "metadata": {},
   "outputs": [
    {
     "data": {
      "text/plain": [
       "complex"
      ]
     },
     "execution_count": 3,
     "metadata": {},
     "output_type": "execute_result"
    }
   ],
   "source": [
    "num=6+9j\n",
    "type(num )"
   ]
  },
  {
   "cell_type": "code",
   "execution_count": 4,
   "id": "780f9cad",
   "metadata": {},
   "outputs": [
    {
     "data": {
      "text/plain": [
       "bool"
      ]
     },
     "execution_count": 4,
     "metadata": {},
     "output_type": "execute_result"
    }
   ],
   "source": [
    "num=True\n",
    "type(num)\n"
   ]
  },
  {
   "cell_type": "code",
   "execution_count": 5,
   "id": "eb0bc914",
   "metadata": {},
   "outputs": [
    {
     "data": {
      "text/plain": [
       "bool"
      ]
     },
     "execution_count": 5,
     "metadata": {},
     "output_type": "execute_result"
    }
   ],
   "source": [
    "num=False\n",
    "type(num) "
   ]
  },
  {
   "cell_type": "code",
   "execution_count": 11,
   "id": "2fc7237d",
   "metadata": {},
   "outputs": [
    {
     "data": {
      "text/plain": [
       "list"
      ]
     },
     "execution_count": 11,
     "metadata": {},
     "output_type": "execute_result"
    }
   ],
   "source": [
    "lst=[1,1.5,'aravind',1+2j]\n",
    "type(lst)\n",
    "\n"
   ]
  },
  {
   "cell_type": "code",
   "execution_count": 12,
   "id": "994a559f",
   "metadata": {},
   "outputs": [
    {
     "data": {
      "text/plain": [
       "tuple"
      ]
     },
     "execution_count": 12,
     "metadata": {},
     "output_type": "execute_result"
    }
   ],
   "source": [
    "t=(1,1.5,'aravind',1+2j)\n",
    "type(t)\n"
   ]
  },
  {
   "cell_type": "code",
   "execution_count": 14,
   "id": "dd1dabc0",
   "metadata": {},
   "outputs": [
    {
     "data": {
      "text/plain": [
       "set"
      ]
     },
     "execution_count": 14,
     "metadata": {},
     "output_type": "execute_result"
    }
   ],
   "source": [
    "s={1,2.5,'abc',2+3j}\n",
    "type(s)\n"
   ]
  },
  {
   "cell_type": "code",
   "execution_count": null,
   "id": "af5ecd13",
   "metadata": {},
   "outputs": [],
   "source": [
    "d={1:'apple',2:'banana',3:'kiwi'}\n",
    "type(d)"
   ]
  },
  {
   "cell_type": "code",
   "execution_count": null,
   "id": "501be914",
   "metadata": {},
   "outputs": [],
   "source": []
  }
 ],
 "metadata": {
  "kernelspec": {
   "display_name": "Python 3 (ipykernel)",
   "language": "python",
   "name": "python3"
  },
  "language_info": {
   "codemirror_mode": {
    "name": "ipython",
    "version": 3
   },
   "file_extension": ".py",
   "mimetype": "text/x-python",
   "name": "python",
   "nbconvert_exporter": "python",
   "pygments_lexer": "ipython3",
   "version": "3.9.7"
  }
 },
 "nbformat": 4,
 "nbformat_minor": 5
}
